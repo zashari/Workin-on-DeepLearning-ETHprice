{
 "cells": [
  {
   "cell_type": "code",
   "execution_count": 31,
   "metadata": {
    "id": "X5TW3Mm7wmdf"
   },
   "outputs": [],
   "source": [
    "import pandas as pd\n",
    "import numpy as np"
   ]
  },
  {
   "cell_type": "code",
   "execution_count": 32,
   "metadata": {
    "id": "sxJJSIR2ztJE"
   },
   "outputs": [],
   "source": [
    "df=pd.read_csv('ETHhistorical.csv')"
   ]
  },
  {
   "cell_type": "code",
   "execution_count": 33,
   "metadata": {
    "colab": {
     "base_uri": "https://localhost:8080/",
     "height": 201
    },
    "id": "smzUWotG5xCR",
    "outputId": "6de0b28a-d4d6-4576-ae55-7915fb4e3212"
   },
   "outputs": [
    {
     "data": {
      "text/html": [
       "<div>\n",
       "<style scoped>\n",
       "    .dataframe tbody tr th:only-of-type {\n",
       "        vertical-align: middle;\n",
       "    }\n",
       "\n",
       "    .dataframe tbody tr th {\n",
       "        vertical-align: top;\n",
       "    }\n",
       "\n",
       "    .dataframe thead th {\n",
       "        text-align: right;\n",
       "    }\n",
       "</style>\n",
       "<table border=\"1\" class=\"dataframe\">\n",
       "  <thead>\n",
       "    <tr style=\"text-align: right;\">\n",
       "      <th></th>\n",
       "      <th>Date</th>\n",
       "      <th>Price</th>\n",
       "      <th>Open</th>\n",
       "      <th>High</th>\n",
       "      <th>Low</th>\n",
       "      <th>Vol</th>\n",
       "      <th>Change %</th>\n",
       "    </tr>\n",
       "  </thead>\n",
       "  <tbody>\n",
       "    <tr>\n",
       "      <th>0</th>\n",
       "      <td>May 06, 2023</td>\n",
       "      <td>1,969.82</td>\n",
       "      <td>1,993.33</td>\n",
       "      <td>2,013.10</td>\n",
       "      <td>1,964.43</td>\n",
       "      <td>641.57K</td>\n",
       "      <td>-1.18%</td>\n",
       "    </tr>\n",
       "    <tr>\n",
       "      <th>1</th>\n",
       "      <td>May 05, 2023</td>\n",
       "      <td>1,993.33</td>\n",
       "      <td>1,877.06</td>\n",
       "      <td>1,996.64</td>\n",
       "      <td>1,875.66</td>\n",
       "      <td>589.05K</td>\n",
       "      <td>6.19%</td>\n",
       "    </tr>\n",
       "    <tr>\n",
       "      <th>2</th>\n",
       "      <td>May 04, 2023</td>\n",
       "      <td>1,877.06</td>\n",
       "      <td>1,904.76</td>\n",
       "      <td>1,915.15</td>\n",
       "      <td>1,868.18</td>\n",
       "      <td>372.69K</td>\n",
       "      <td>-1.45%</td>\n",
       "    </tr>\n",
       "    <tr>\n",
       "      <th>3</th>\n",
       "      <td>May 03, 2023</td>\n",
       "      <td>1,904.74</td>\n",
       "      <td>1,869.74</td>\n",
       "      <td>1,915.00</td>\n",
       "      <td>1,844.72</td>\n",
       "      <td>489.66K</td>\n",
       "      <td>1.87%</td>\n",
       "    </tr>\n",
       "    <tr>\n",
       "      <th>4</th>\n",
       "      <td>May 02, 2023</td>\n",
       "      <td>1,869.74</td>\n",
       "      <td>1,830.75</td>\n",
       "      <td>1,878.70</td>\n",
       "      <td>1,823.25</td>\n",
       "      <td>391.27K</td>\n",
       "      <td>2.13%</td>\n",
       "    </tr>\n",
       "  </tbody>\n",
       "</table>\n",
       "</div>"
      ],
      "text/plain": [
       "           Date     Price      Open      High       Low      Vol Change %\n",
       "0  May 06, 2023  1,969.82  1,993.33  2,013.10  1,964.43  641.57K   -1.18%\n",
       "1  May 05, 2023  1,993.33  1,877.06  1,996.64  1,875.66  589.05K    6.19%\n",
       "2  May 04, 2023  1,877.06  1,904.76  1,915.15  1,868.18  372.69K   -1.45%\n",
       "3  May 03, 2023  1,904.74  1,869.74  1,915.00  1,844.72  489.66K    1.87%\n",
       "4  May 02, 2023  1,869.74  1,830.75  1,878.70  1,823.25  391.27K    2.13%"
      ]
     },
     "execution_count": 33,
     "metadata": {},
     "output_type": "execute_result"
    }
   ],
   "source": [
    "df.head()"
   ]
  },
  {
   "cell_type": "code",
   "execution_count": 34,
   "metadata": {},
   "outputs": [
    {
     "data": {
      "text/html": [
       "<div>\n",
       "<style scoped>\n",
       "    .dataframe tbody tr th:only-of-type {\n",
       "        vertical-align: middle;\n",
       "    }\n",
       "\n",
       "    .dataframe tbody tr th {\n",
       "        vertical-align: top;\n",
       "    }\n",
       "\n",
       "    .dataframe thead th {\n",
       "        text-align: right;\n",
       "    }\n",
       "</style>\n",
       "<table border=\"1\" class=\"dataframe\">\n",
       "  <thead>\n",
       "    <tr style=\"text-align: right;\">\n",
       "      <th></th>\n",
       "      <th>Date</th>\n",
       "      <th>Price</th>\n",
       "      <th>Open</th>\n",
       "      <th>High</th>\n",
       "      <th>Low</th>\n",
       "      <th>Vol</th>\n",
       "      <th>Change %</th>\n",
       "    </tr>\n",
       "  </thead>\n",
       "  <tbody>\n",
       "    <tr>\n",
       "      <th>2609</th>\n",
       "      <td>Mar 14, 2016</td>\n",
       "      <td>12.5</td>\n",
       "      <td>15.07</td>\n",
       "      <td>15.07</td>\n",
       "      <td>11.4</td>\n",
       "      <td>92.18K</td>\n",
       "      <td>-17.05%</td>\n",
       "    </tr>\n",
       "    <tr>\n",
       "      <th>2610</th>\n",
       "      <td>Mar 13, 2016</td>\n",
       "      <td>15.07</td>\n",
       "      <td>12.92</td>\n",
       "      <td>15.07</td>\n",
       "      <td>12.92</td>\n",
       "      <td>1.30K</td>\n",
       "      <td>16.64%</td>\n",
       "    </tr>\n",
       "    <tr>\n",
       "      <th>2611</th>\n",
       "      <td>Mar 12, 2016</td>\n",
       "      <td>12.92</td>\n",
       "      <td>11.95</td>\n",
       "      <td>13.45</td>\n",
       "      <td>11.95</td>\n",
       "      <td>0.83K</td>\n",
       "      <td>8.12%</td>\n",
       "    </tr>\n",
       "    <tr>\n",
       "      <th>2612</th>\n",
       "      <td>Mar 11, 2016</td>\n",
       "      <td>11.95</td>\n",
       "      <td>11.75</td>\n",
       "      <td>11.95</td>\n",
       "      <td>11.75</td>\n",
       "      <td>0.18K</td>\n",
       "      <td>1.70%</td>\n",
       "    </tr>\n",
       "    <tr>\n",
       "      <th>2613</th>\n",
       "      <td>Mar 10, 2016</td>\n",
       "      <td>11.75</td>\n",
       "      <td>11.2</td>\n",
       "      <td>11.85</td>\n",
       "      <td>11.07</td>\n",
       "      <td>0.00K</td>\n",
       "      <td>4.91%</td>\n",
       "    </tr>\n",
       "  </tbody>\n",
       "</table>\n",
       "</div>"
      ],
      "text/plain": [
       "              Date  Price   Open   High    Low     Vol Change %\n",
       "2609  Mar 14, 2016   12.5  15.07  15.07   11.4  92.18K  -17.05%\n",
       "2610  Mar 13, 2016  15.07  12.92  15.07  12.92   1.30K   16.64%\n",
       "2611  Mar 12, 2016  12.92  11.95  13.45  11.95   0.83K    8.12%\n",
       "2612  Mar 11, 2016  11.95  11.75  11.95  11.75   0.18K    1.70%\n",
       "2613  Mar 10, 2016  11.75   11.2  11.85  11.07   0.00K    4.91%"
      ]
     },
     "execution_count": 34,
     "metadata": {},
     "output_type": "execute_result"
    }
   ],
   "source": [
    "df.tail()"
   ]
  },
  {
   "cell_type": "code",
   "execution_count": 96,
   "metadata": {},
   "outputs": [
    {
     "name": "stdout",
     "output_type": "stream",
     "text": [
      "            Price   Open   High    Low     Vol  Change %\n",
      "Date                                                    \n",
      "2016-03-10  11.75  11.20  11.85  11.07   0.00K      4.91\n",
      "2016-03-11  11.95  11.75  11.95  11.75   0.18K      1.70\n",
      "2016-03-12  12.92  11.95  13.45  11.95   0.83K      8.12\n",
      "2016-03-13  15.07  12.92  15.07  12.92   1.30K     16.64\n",
      "2016-03-14  12.50  15.07  15.07  11.40  92.18K    -17.05\n"
     ]
    }
   ],
   "source": [
    "df = df.sort_values(by='Date', ascending=True)\n",
    "\n",
    "print(df.head())"
   ]
  },
  {
   "cell_type": "code",
   "execution_count": 101,
   "metadata": {
    "colab": {
     "base_uri": "https://localhost:8080/"
    },
    "id": "bv7OJM27Hxqi",
    "outputId": "e9feeb2e-1b5d-40f9-87e1-5c210bc64da6"
   },
   "outputs": [
    {
     "data": {
      "text/plain": [
       "Index(['Price', 'Open', 'High', 'Low', 'Vol', 'Change %'], dtype='object')"
      ]
     },
     "execution_count": 101,
     "metadata": {},
     "output_type": "execute_result"
    }
   ],
   "source": [
    "df.columns"
   ]
  },
  {
   "cell_type": "code",
   "execution_count": 102,
   "metadata": {
    "colab": {
     "base_uri": "https://localhost:8080/"
    },
    "id": "vuIW4k2n74Xj",
    "outputId": "bec76648-656b-4ecd-c5bc-eac9e95580ef"
   },
   "outputs": [
    {
     "data": {
      "text/plain": [
       "(2614, 6)"
      ]
     },
     "execution_count": 102,
     "metadata": {},
     "output_type": "execute_result"
    }
   ],
   "source": [
    "df.shape"
   ]
  },
  {
   "cell_type": "code",
   "execution_count": 103,
   "metadata": {
    "id": "vHaAEOpZ5yjs"
   },
   "outputs": [],
   "source": [
    "df=pd.read_csv('ETHhistorical.csv',parse_dates=['Date'],index_col=['Date'])"
   ]
  },
  {
   "cell_type": "code",
   "execution_count": 106,
   "metadata": {},
   "outputs": [],
   "source": [
    "df = df.sort_values(by='Date', ascending=True)"
   ]
  },
  {
   "cell_type": "code",
   "execution_count": 107,
   "metadata": {
    "colab": {
     "base_uri": "https://localhost:8080/",
     "height": 231
    },
    "id": "8croeRJN7k0D",
    "outputId": "deed7cbf-51fa-4987-a3b3-a0a0ed2db6e0"
   },
   "outputs": [
    {
     "data": {
      "text/html": [
       "<div>\n",
       "<style scoped>\n",
       "    .dataframe tbody tr th:only-of-type {\n",
       "        vertical-align: middle;\n",
       "    }\n",
       "\n",
       "    .dataframe tbody tr th {\n",
       "        vertical-align: top;\n",
       "    }\n",
       "\n",
       "    .dataframe thead th {\n",
       "        text-align: right;\n",
       "    }\n",
       "</style>\n",
       "<table border=\"1\" class=\"dataframe\">\n",
       "  <thead>\n",
       "    <tr style=\"text-align: right;\">\n",
       "      <th></th>\n",
       "      <th>Price</th>\n",
       "      <th>Open</th>\n",
       "      <th>High</th>\n",
       "      <th>Low</th>\n",
       "      <th>Vol</th>\n",
       "      <th>Change %</th>\n",
       "    </tr>\n",
       "    <tr>\n",
       "      <th>Date</th>\n",
       "      <th></th>\n",
       "      <th></th>\n",
       "      <th></th>\n",
       "      <th></th>\n",
       "      <th></th>\n",
       "      <th></th>\n",
       "    </tr>\n",
       "  </thead>\n",
       "  <tbody>\n",
       "    <tr>\n",
       "      <th>2016-03-10</th>\n",
       "      <td>11.75</td>\n",
       "      <td>11.2</td>\n",
       "      <td>11.85</td>\n",
       "      <td>11.07</td>\n",
       "      <td>0.00K</td>\n",
       "      <td>4.91%</td>\n",
       "    </tr>\n",
       "    <tr>\n",
       "      <th>2016-03-11</th>\n",
       "      <td>11.95</td>\n",
       "      <td>11.75</td>\n",
       "      <td>11.95</td>\n",
       "      <td>11.75</td>\n",
       "      <td>0.18K</td>\n",
       "      <td>1.70%</td>\n",
       "    </tr>\n",
       "    <tr>\n",
       "      <th>2016-03-12</th>\n",
       "      <td>12.92</td>\n",
       "      <td>11.95</td>\n",
       "      <td>13.45</td>\n",
       "      <td>11.95</td>\n",
       "      <td>0.83K</td>\n",
       "      <td>8.12%</td>\n",
       "    </tr>\n",
       "    <tr>\n",
       "      <th>2016-03-13</th>\n",
       "      <td>15.07</td>\n",
       "      <td>12.92</td>\n",
       "      <td>15.07</td>\n",
       "      <td>12.92</td>\n",
       "      <td>1.30K</td>\n",
       "      <td>16.64%</td>\n",
       "    </tr>\n",
       "    <tr>\n",
       "      <th>2016-03-14</th>\n",
       "      <td>12.5</td>\n",
       "      <td>15.07</td>\n",
       "      <td>15.07</td>\n",
       "      <td>11.4</td>\n",
       "      <td>92.18K</td>\n",
       "      <td>-17.05%</td>\n",
       "    </tr>\n",
       "  </tbody>\n",
       "</table>\n",
       "</div>"
      ],
      "text/plain": [
       "            Price   Open   High    Low     Vol Change %\n",
       "Date                                                   \n",
       "2016-03-10  11.75   11.2  11.85  11.07   0.00K    4.91%\n",
       "2016-03-11  11.95  11.75  11.95  11.75   0.18K    1.70%\n",
       "2016-03-12  12.92  11.95  13.45  11.95   0.83K    8.12%\n",
       "2016-03-13  15.07  12.92  15.07  12.92   1.30K   16.64%\n",
       "2016-03-14   12.5  15.07  15.07   11.4  92.18K  -17.05%"
      ]
     },
     "execution_count": 107,
     "metadata": {},
     "output_type": "execute_result"
    }
   ],
   "source": [
    "df.head()"
   ]
  },
  {
   "cell_type": "code",
   "execution_count": 108,
   "metadata": {
    "colab": {
     "base_uri": "https://localhost:8080/",
     "height": 231
    },
    "id": "EPzQao9jU-Nm",
    "outputId": "8376d3b9-a646-4f0c-a3e8-d5107de11fef"
   },
   "outputs": [
    {
     "data": {
      "text/html": [
       "<div>\n",
       "<style scoped>\n",
       "    .dataframe tbody tr th:only-of-type {\n",
       "        vertical-align: middle;\n",
       "    }\n",
       "\n",
       "    .dataframe tbody tr th {\n",
       "        vertical-align: top;\n",
       "    }\n",
       "\n",
       "    .dataframe thead th {\n",
       "        text-align: right;\n",
       "    }\n",
       "</style>\n",
       "<table border=\"1\" class=\"dataframe\">\n",
       "  <thead>\n",
       "    <tr style=\"text-align: right;\">\n",
       "      <th></th>\n",
       "      <th>Price</th>\n",
       "      <th>Open</th>\n",
       "      <th>High</th>\n",
       "      <th>Low</th>\n",
       "      <th>Vol</th>\n",
       "      <th>Change %</th>\n",
       "    </tr>\n",
       "    <tr>\n",
       "      <th>Date</th>\n",
       "      <th></th>\n",
       "      <th></th>\n",
       "      <th></th>\n",
       "      <th></th>\n",
       "      <th></th>\n",
       "      <th></th>\n",
       "    </tr>\n",
       "  </thead>\n",
       "  <tbody>\n",
       "    <tr>\n",
       "      <th>2023-05-02</th>\n",
       "      <td>1,869.74</td>\n",
       "      <td>1,830.75</td>\n",
       "      <td>1,878.70</td>\n",
       "      <td>1,823.25</td>\n",
       "      <td>391.27K</td>\n",
       "      <td>2.13%</td>\n",
       "    </tr>\n",
       "    <tr>\n",
       "      <th>2023-05-03</th>\n",
       "      <td>1,904.74</td>\n",
       "      <td>1,869.74</td>\n",
       "      <td>1,915.00</td>\n",
       "      <td>1,844.72</td>\n",
       "      <td>489.66K</td>\n",
       "      <td>1.87%</td>\n",
       "    </tr>\n",
       "    <tr>\n",
       "      <th>2023-05-04</th>\n",
       "      <td>1,877.06</td>\n",
       "      <td>1,904.76</td>\n",
       "      <td>1,915.15</td>\n",
       "      <td>1,868.18</td>\n",
       "      <td>372.69K</td>\n",
       "      <td>-1.45%</td>\n",
       "    </tr>\n",
       "    <tr>\n",
       "      <th>2023-05-05</th>\n",
       "      <td>1,993.33</td>\n",
       "      <td>1,877.06</td>\n",
       "      <td>1,996.64</td>\n",
       "      <td>1,875.66</td>\n",
       "      <td>589.05K</td>\n",
       "      <td>6.19%</td>\n",
       "    </tr>\n",
       "    <tr>\n",
       "      <th>2023-05-06</th>\n",
       "      <td>1,969.82</td>\n",
       "      <td>1,993.33</td>\n",
       "      <td>2,013.10</td>\n",
       "      <td>1,964.43</td>\n",
       "      <td>641.57K</td>\n",
       "      <td>-1.18%</td>\n",
       "    </tr>\n",
       "  </tbody>\n",
       "</table>\n",
       "</div>"
      ],
      "text/plain": [
       "               Price      Open      High       Low      Vol Change %\n",
       "Date                                                                \n",
       "2023-05-02  1,869.74  1,830.75  1,878.70  1,823.25  391.27K    2.13%\n",
       "2023-05-03  1,904.74  1,869.74  1,915.00  1,844.72  489.66K    1.87%\n",
       "2023-05-04  1,877.06  1,904.76  1,915.15  1,868.18  372.69K   -1.45%\n",
       "2023-05-05  1,993.33  1,877.06  1,996.64  1,875.66  589.05K    6.19%\n",
       "2023-05-06  1,969.82  1,993.33  2,013.10  1,964.43  641.57K   -1.18%"
      ]
     },
     "execution_count": 108,
     "metadata": {},
     "output_type": "execute_result"
    }
   ],
   "source": [
    "df.tail()"
   ]
  },
  {
   "cell_type": "code",
   "execution_count": 109,
   "metadata": {
    "colab": {
     "base_uri": "https://localhost:8080/"
    },
    "id": "3qBACpjH7m0L",
    "outputId": "ac868b4f-2f61-4d29-de4e-aedeb051136b"
   },
   "outputs": [
    {
     "data": {
      "text/plain": [
       "(2614, 6)"
      ]
     },
     "execution_count": 109,
     "metadata": {},
     "output_type": "execute_result"
    }
   ],
   "source": [
    "df.shape"
   ]
  },
  {
   "cell_type": "code",
   "execution_count": 110,
   "metadata": {
    "colab": {
     "base_uri": "https://localhost:8080/"
    },
    "id": "A7KJL1vw7p5T",
    "outputId": "c142d540-8b50-4950-e3ac-a240d76d9252"
   },
   "outputs": [
    {
     "name": "stdout",
     "output_type": "stream",
     "text": [
      "<class 'pandas.core.frame.DataFrame'>\n",
      "DatetimeIndex: 2614 entries, 2016-03-10 to 2023-05-06\n",
      "Data columns (total 6 columns):\n",
      " #   Column    Non-Null Count  Dtype \n",
      "---  ------    --------------  ----- \n",
      " 0   Price     2614 non-null   object\n",
      " 1   Open      2614 non-null   object\n",
      " 2   High      2614 non-null   object\n",
      " 3   Low       2614 non-null   object\n",
      " 4   Vol       2614 non-null   object\n",
      " 5   Change %  2614 non-null   object\n",
      "dtypes: object(6)\n",
      "memory usage: 143.0+ KB\n"
     ]
    }
   ],
   "source": [
    "df.info()"
   ]
  },
  {
   "cell_type": "code",
   "execution_count": 111,
   "metadata": {},
   "outputs": [
    {
     "name": "stdout",
     "output_type": "stream",
     "text": [
      "Price       float64\n",
      "Open        float64\n",
      "High        float64\n",
      "Low         float64\n",
      "Vol          object\n",
      "Change %    float64\n",
      "dtype: object\n"
     ]
    }
   ],
   "source": [
    "# Change comma into dots and remove others characters in Price, Open, High, and Low\n",
    "df['Price'] = df['Price'].str.replace(',', '').astype(float)\n",
    "df['Open'] = df['Open'].str.replace(',', '').astype(float)\n",
    "df['High'] = df['High'].str.replace(',', '').astype(float)\n",
    "df['Low'] = df['Low'].str.replace(',', '').astype(float)\n",
    "\n",
    "# Remove '%' in 'Change %' column\n",
    "df['Change %'] = df['Change %'].str.rstrip('%').astype(float)\n",
    "\n",
    "# Check the dataframe after the convertion\n",
    "print(df.dtypes)"
   ]
  },
  {
   "cell_type": "code",
   "execution_count": 112,
   "metadata": {
    "colab": {
     "base_uri": "https://localhost:8080/"
    },
    "id": "KseaVJ7ZgFQE",
    "outputId": "41110e60-18f8-4236-dabc-a39f86c9f776"
   },
   "outputs": [
    {
     "data": {
      "text/plain": [
       "Index(['Price', 'Open', 'High', 'Low', 'Vol', 'Change %'], dtype='object')"
      ]
     },
     "execution_count": 112,
     "metadata": {},
     "output_type": "execute_result"
    }
   ],
   "source": [
    "df.columns"
   ]
  },
  {
   "cell_type": "code",
   "execution_count": 113,
   "metadata": {
    "colab": {
     "base_uri": "https://localhost:8080/"
    },
    "id": "cwFXqcJdlLy2",
    "outputId": "a556057c-b335-4d6e-c720-5b46408cf0dd"
   },
   "outputs": [
    {
     "data": {
      "text/html": [
       "<div>\n",
       "<style scoped>\n",
       "    .dataframe tbody tr th:only-of-type {\n",
       "        vertical-align: middle;\n",
       "    }\n",
       "\n",
       "    .dataframe tbody tr th {\n",
       "        vertical-align: top;\n",
       "    }\n",
       "\n",
       "    .dataframe thead th {\n",
       "        text-align: right;\n",
       "    }\n",
       "</style>\n",
       "<table border=\"1\" class=\"dataframe\">\n",
       "  <thead>\n",
       "    <tr style=\"text-align: right;\">\n",
       "      <th></th>\n",
       "      <th>Price</th>\n",
       "      <th>Open</th>\n",
       "      <th>High</th>\n",
       "      <th>Low</th>\n",
       "      <th>Vol</th>\n",
       "      <th>Change %</th>\n",
       "    </tr>\n",
       "    <tr>\n",
       "      <th>Date</th>\n",
       "      <th></th>\n",
       "      <th></th>\n",
       "      <th></th>\n",
       "      <th></th>\n",
       "      <th></th>\n",
       "      <th></th>\n",
       "    </tr>\n",
       "  </thead>\n",
       "  <tbody>\n",
       "    <tr>\n",
       "      <th>2016-03-10</th>\n",
       "      <td>11.75</td>\n",
       "      <td>11.20</td>\n",
       "      <td>11.85</td>\n",
       "      <td>11.07</td>\n",
       "      <td>0.00K</td>\n",
       "      <td>4.91</td>\n",
       "    </tr>\n",
       "    <tr>\n",
       "      <th>2016-03-11</th>\n",
       "      <td>11.95</td>\n",
       "      <td>11.75</td>\n",
       "      <td>11.95</td>\n",
       "      <td>11.75</td>\n",
       "      <td>0.18K</td>\n",
       "      <td>1.70</td>\n",
       "    </tr>\n",
       "    <tr>\n",
       "      <th>2016-03-12</th>\n",
       "      <td>12.92</td>\n",
       "      <td>11.95</td>\n",
       "      <td>13.45</td>\n",
       "      <td>11.95</td>\n",
       "      <td>0.83K</td>\n",
       "      <td>8.12</td>\n",
       "    </tr>\n",
       "    <tr>\n",
       "      <th>2016-03-13</th>\n",
       "      <td>15.07</td>\n",
       "      <td>12.92</td>\n",
       "      <td>15.07</td>\n",
       "      <td>12.92</td>\n",
       "      <td>1.30K</td>\n",
       "      <td>16.64</td>\n",
       "    </tr>\n",
       "    <tr>\n",
       "      <th>2016-03-14</th>\n",
       "      <td>12.50</td>\n",
       "      <td>15.07</td>\n",
       "      <td>15.07</td>\n",
       "      <td>11.40</td>\n",
       "      <td>92.18K</td>\n",
       "      <td>-17.05</td>\n",
       "    </tr>\n",
       "    <tr>\n",
       "      <th>...</th>\n",
       "      <td>...</td>\n",
       "      <td>...</td>\n",
       "      <td>...</td>\n",
       "      <td>...</td>\n",
       "      <td>...</td>\n",
       "      <td>...</td>\n",
       "    </tr>\n",
       "    <tr>\n",
       "      <th>2023-05-02</th>\n",
       "      <td>1869.74</td>\n",
       "      <td>1830.75</td>\n",
       "      <td>1878.70</td>\n",
       "      <td>1823.25</td>\n",
       "      <td>391.27K</td>\n",
       "      <td>2.13</td>\n",
       "    </tr>\n",
       "    <tr>\n",
       "      <th>2023-05-03</th>\n",
       "      <td>1904.74</td>\n",
       "      <td>1869.74</td>\n",
       "      <td>1915.00</td>\n",
       "      <td>1844.72</td>\n",
       "      <td>489.66K</td>\n",
       "      <td>1.87</td>\n",
       "    </tr>\n",
       "    <tr>\n",
       "      <th>2023-05-04</th>\n",
       "      <td>1877.06</td>\n",
       "      <td>1904.76</td>\n",
       "      <td>1915.15</td>\n",
       "      <td>1868.18</td>\n",
       "      <td>372.69K</td>\n",
       "      <td>-1.45</td>\n",
       "    </tr>\n",
       "    <tr>\n",
       "      <th>2023-05-05</th>\n",
       "      <td>1993.33</td>\n",
       "      <td>1877.06</td>\n",
       "      <td>1996.64</td>\n",
       "      <td>1875.66</td>\n",
       "      <td>589.05K</td>\n",
       "      <td>6.19</td>\n",
       "    </tr>\n",
       "    <tr>\n",
       "      <th>2023-05-06</th>\n",
       "      <td>1969.82</td>\n",
       "      <td>1993.33</td>\n",
       "      <td>2013.10</td>\n",
       "      <td>1964.43</td>\n",
       "      <td>641.57K</td>\n",
       "      <td>-1.18</td>\n",
       "    </tr>\n",
       "  </tbody>\n",
       "</table>\n",
       "<p>2614 rows × 6 columns</p>\n",
       "</div>"
      ],
      "text/plain": [
       "              Price     Open     High      Low      Vol  Change %\n",
       "Date                                                             \n",
       "2016-03-10    11.75    11.20    11.85    11.07    0.00K      4.91\n",
       "2016-03-11    11.95    11.75    11.95    11.75    0.18K      1.70\n",
       "2016-03-12    12.92    11.95    13.45    11.95    0.83K      8.12\n",
       "2016-03-13    15.07    12.92    15.07    12.92    1.30K     16.64\n",
       "2016-03-14    12.50    15.07    15.07    11.40   92.18K    -17.05\n",
       "...             ...      ...      ...      ...      ...       ...\n",
       "2023-05-02  1869.74  1830.75  1878.70  1823.25  391.27K      2.13\n",
       "2023-05-03  1904.74  1869.74  1915.00  1844.72  489.66K      1.87\n",
       "2023-05-04  1877.06  1904.76  1915.15  1868.18  372.69K     -1.45\n",
       "2023-05-05  1993.33  1877.06  1996.64  1875.66  589.05K      6.19\n",
       "2023-05-06  1969.82  1993.33  2013.10  1964.43  641.57K     -1.18\n",
       "\n",
       "[2614 rows x 6 columns]"
      ]
     },
     "execution_count": 113,
     "metadata": {},
     "output_type": "execute_result"
    }
   ],
   "source": [
    "df"
   ]
  },
  {
   "cell_type": "code",
   "execution_count": 114,
   "metadata": {
    "colab": {
     "base_uri": "https://localhost:8080/",
     "height": 394
    },
    "id": "PvvC42Jo7w48",
    "outputId": "bdea2589-9ad0-455d-dd1a-609d641eaced"
   },
   "outputs": [
    {
     "data": {
      "text/html": [
       "<div>\n",
       "<style scoped>\n",
       "    .dataframe tbody tr th:only-of-type {\n",
       "        vertical-align: middle;\n",
       "    }\n",
       "\n",
       "    .dataframe tbody tr th {\n",
       "        vertical-align: top;\n",
       "    }\n",
       "\n",
       "    .dataframe thead th {\n",
       "        text-align: right;\n",
       "    }\n",
       "</style>\n",
       "<table border=\"1\" class=\"dataframe\">\n",
       "  <thead>\n",
       "    <tr style=\"text-align: right;\">\n",
       "      <th></th>\n",
       "      <th>Price</th>\n",
       "    </tr>\n",
       "    <tr>\n",
       "      <th>Date</th>\n",
       "      <th></th>\n",
       "    </tr>\n",
       "  </thead>\n",
       "  <tbody>\n",
       "    <tr>\n",
       "      <th>2016-03-10</th>\n",
       "      <td>11.75</td>\n",
       "    </tr>\n",
       "    <tr>\n",
       "      <th>2016-03-11</th>\n",
       "      <td>11.95</td>\n",
       "    </tr>\n",
       "    <tr>\n",
       "      <th>2016-03-12</th>\n",
       "      <td>12.92</td>\n",
       "    </tr>\n",
       "    <tr>\n",
       "      <th>2016-03-13</th>\n",
       "      <td>15.07</td>\n",
       "    </tr>\n",
       "    <tr>\n",
       "      <th>2016-03-14</th>\n",
       "      <td>12.50</td>\n",
       "    </tr>\n",
       "    <tr>\n",
       "      <th>2016-03-15</th>\n",
       "      <td>13.06</td>\n",
       "    </tr>\n",
       "    <tr>\n",
       "      <th>2016-03-16</th>\n",
       "      <td>12.88</td>\n",
       "    </tr>\n",
       "    <tr>\n",
       "      <th>2016-03-17</th>\n",
       "      <td>10.74</td>\n",
       "    </tr>\n",
       "    <tr>\n",
       "      <th>2016-03-18</th>\n",
       "      <td>10.74</td>\n",
       "    </tr>\n",
       "    <tr>\n",
       "      <th>2016-03-19</th>\n",
       "      <td>10.31</td>\n",
       "    </tr>\n",
       "  </tbody>\n",
       "</table>\n",
       "</div>"
      ],
      "text/plain": [
       "            Price\n",
       "Date             \n",
       "2016-03-10  11.75\n",
       "2016-03-11  11.95\n",
       "2016-03-12  12.92\n",
       "2016-03-13  15.07\n",
       "2016-03-14  12.50\n",
       "2016-03-15  13.06\n",
       "2016-03-16  12.88\n",
       "2016-03-17  10.74\n",
       "2016-03-18  10.74\n",
       "2016-03-19  10.31"
      ]
     },
     "execution_count": 114,
     "metadata": {},
     "output_type": "execute_result"
    }
   ],
   "source": [
    "df_price=pd.DataFrame(df['Price'])\n",
    "df_price.head(10)"
   ]
  },
  {
   "cell_type": "code",
   "execution_count": 115,
   "metadata": {
    "colab": {
     "base_uri": "https://localhost:8080/",
     "height": 639
    },
    "id": "dVcd8KCvgj0H",
    "outputId": "202bfc8a-8661-46a2-8cc7-e57049d548d3"
   },
   "outputs": [
    {
     "data": {
      "text/plain": [
       "Text(0, 0.5, 'ETH Price')"
      ]
     },
     "execution_count": 115,
     "metadata": {},
     "output_type": "execute_result"
    },
    {
     "data": {
      "image/png": "[encoded data removed]",
      "text/plain": [
       "<Figure size 720x504 with 1 Axes>"
      ]
     },
     "metadata": {
      "needs_background": "light"
     },
     "output_type": "display_data"
    }
   ],
   "source": [
    "import matplotlib.pyplot as plt\n",
    "\n",
    "# Plotting the time series \n",
    "df_price.plot(figsize=(10,7))\n",
    "plt.title('Price of Ethereum from 3 mar 2016 to 6 May 2023',fontsize=16)\n",
    "plt.xlabel('Date')\n",
    "plt.ylabel('ETH Price')"
   ]
  },
  {
   "cell_type": "markdown",
   "metadata": {
    "id": "e_VsU6CPpkFM"
   },
   "source": [
    "**Split Data**\n",
    "**Because Time series data depend on timesteps, So we need to create the data based on the timesteps**"
   ]
  },
  {
   "cell_type": "code",
   "execution_count": 133,
   "metadata": {
    "colab": {
     "base_uri": "https://localhost:8080/"
    },
    "id": "ccjikto0lDvg",
    "outputId": "07122f17-5044-4ae6-82ac-165746237e4b"
   },
   "outputs": [
    {
     "data": {
      "text/plain": [
       "(array(['2016-03-10T00:00:00.000000000', '2016-03-11T00:00:00.000000000',\n",
       "        '2016-03-12T00:00:00.000000000', '2016-03-13T00:00:00.000000000',\n",
       "        '2016-03-14T00:00:00.000000000', '2016-03-15T00:00:00.000000000',\n",
       "        '2016-03-16T00:00:00.000000000', '2016-03-17T00:00:00.000000000',\n",
       "        '2016-03-18T00:00:00.000000000', '2016-03-19T00:00:00.000000000'],\n",
       "       dtype='datetime64[ns]'),\n",
       " array([11.75, 11.95, 12.92, 15.07, 12.5 , 13.06, 12.88, 10.74, 10.74,\n",
       "        10.31], dtype=float32))"
      ]
     },
     "execution_count": 133,
     "metadata": {},
     "output_type": "execute_result"
    }
   ],
   "source": [
    "#change the data into array\n",
    "time_step=df_price.index.to_numpy()\n",
    "price=df_price['Price'].values.astype('float32')\n",
    "time_step[:10],price[:10]"
   ]
  },
  {
   "cell_type": "code",
   "execution_count": 134,
   "metadata": {
    "colab": {
     "base_uri": "https://localhost:8080/"
    },
    "id": "RHKZnsEWr5mD",
    "outputId": "a074651d-c42e-45b9-af0b-903a6c5d86b1"
   },
   "outputs": [
    {
     "name": "stdout",
     "output_type": "stream",
     "text": [
      "Training size\t: 2091\n",
      "Test size\t: 523\n"
     ]
    }
   ],
   "source": [
    "split_size=int(0.8*len(price))\n",
    "\n",
    "print(\"Training size\\t: \"+ str(split_size))\n",
    "print(\"Test size\\t: \"+ str(len(price)-split_size))"
   ]
  },
  {
   "cell_type": "code",
   "execution_count": 135,
   "metadata": {
    "colab": {
     "base_uri": "https://localhost:8080/"
    },
    "id": "QquCtjG3tufr",
    "outputId": "4b6a9668-ede6-429f-8a73-c7ac5e804f21"
   },
   "outputs": [
    {
     "data": {
      "text/plain": [
       "(2091, 523, 2091, 523)"
      ]
     },
     "execution_count": 135,
     "metadata": {},
     "output_type": "execute_result"
    }
   ],
   "source": [
    "train_time,train_price=time_step[:split_size],price[:split_size]\n",
    "test_time,test_price=time_step[split_size:],price[split_size:]\n",
    "len(train_time),len(test_time),len(train_price),len(test_price)"
   ]
  },
  {
   "cell_type": "code",
   "execution_count": 136,
   "metadata": {
    "colab": {
     "base_uri": "https://localhost:8080/"
    },
    "id": "TxqnUFQ4-6T0",
    "outputId": "25af2fe5-74ca-4619-9ee2-0e35c4b2b53f"
   },
   "outputs": [
    {
     "data": {
      "text/plain": [
       "array(['2016-03-10T00:00:00.000000000', '2016-03-11T00:00:00.000000000',\n",
       "       '2016-03-12T00:00:00.000000000', '2016-03-13T00:00:00.000000000',\n",
       "       '2016-03-14T00:00:00.000000000', '2016-03-15T00:00:00.000000000',\n",
       "       '2016-03-16T00:00:00.000000000', '2016-03-17T00:00:00.000000000',\n",
       "       '2016-03-18T00:00:00.000000000', '2016-03-19T00:00:00.000000000'],\n",
       "      dtype='datetime64[ns]')"
      ]
     },
     "execution_count": 136,
     "metadata": {},
     "output_type": "execute_result"
    }
   ],
   "source": [
    "train_time[0:10]"
   ]
  },
  {
   "cell_type": "code",
   "execution_count": 137,
   "metadata": {},
   "outputs": [
    {
     "data": {
      "text/plain": [
       "array(['2021-11-30T00:00:00.000000000', '2021-12-01T00:00:00.000000000',\n",
       "       '2021-12-02T00:00:00.000000000', '2021-12-03T00:00:00.000000000',\n",
       "       '2021-12-04T00:00:00.000000000', '2021-12-05T00:00:00.000000000',\n",
       "       '2021-12-06T00:00:00.000000000', '2021-12-07T00:00:00.000000000',\n",
       "       '2021-12-08T00:00:00.000000000', '2021-12-09T00:00:00.000000000'],\n",
       "      dtype='datetime64[ns]')"
      ]
     },
     "execution_count": 137,
     "metadata": {},
     "output_type": "execute_result"
    }
   ],
   "source": [
    "test_time[0:10]"
   ]
  },
  {
   "cell_type": "code",
   "execution_count": 122,
   "metadata": {
    "colab": {
     "base_uri": "https://localhost:8080/",
     "height": 598
    },
    "id": "yQLhC6fn6hPT",
    "outputId": "b8d4c80d-d4b7-4505-f06b-c655d2f6de9a"
   },
   "outputs": [
    {
     "data": {
      "image/png": "[encoded data removed]",
      "text/plain": [
       "<Figure size 720x504 with 1 Axes>"
      ]
     },
     "metadata": {
      "needs_background": "light"
     },
     "output_type": "display_data"
    }
   ],
   "source": [
    "plt.figure(figsize=(10,7))\n",
    "plt.scatter(train_time, train_price, s=5, label=\"Train data\")\n",
    "plt.scatter(test_time, test_price, s=5, label=\"Test data\")\n",
    "plt.xlabel('Date')\n",
    "plt.ylabel('ETH Price')\n",
    "plt.show()"
   ]
  },
  {
   "cell_type": "markdown",
   "metadata": {
    "id": "DHjWCnkg7Ynf"
   },
   "source": [
    "**Training using RNN approach**"
   ]
  },
  {
   "cell_type": "code",
   "execution_count": 123,
   "metadata": {
    "id": "hbna4-Ne7NAb"
   },
   "outputs": [],
   "source": [
    "#create feature of data\n",
    "import torch\n",
    "def create_dataset(dataset, step):\n",
    "    \"\"\"Transform a time series into a prediction dataset\n",
    "    \n",
    "    Args:\n",
    "        dataset: A numpy array of time series, first dimension is the time steps\n",
    "        step: Size of window for prediction\n",
    "    \"\"\"\n",
    "    X, y = [], []\n",
    "    for i in range(len(dataset)-step):\n",
    "        feature = dataset[i:i+step] #contoh step 1, i=1: feature=1:2\n",
    "        target = dataset[i+1:i+step+1]#contoh target= 2:3\n",
    "        X.append(feature)\n",
    "        y.append(target)\n",
    "    return torch.tensor(X), torch.tensor(y)\n"
   ]
  },
  {
   "cell_type": "code",
   "execution_count": 124,
   "metadata": {
    "colab": {
     "base_uri": "https://localhost:8080/"
    },
    "id": "cQJpLPS2BCVl",
    "outputId": "9943d88d-3288-4447-c6d1-c921cb8287f7"
   },
   "outputs": [
    {
     "name": "stdout",
     "output_type": "stream",
     "text": [
      "torch.Size([2090, 1]) torch.Size([2090, 1])\n",
      "torch.Size([522, 1]) torch.Size([522, 1])\n"
     ]
    }
   ],
   "source": [
    "step = 1\n",
    "X_train, y_train = create_dataset(train_price, step=step)\n",
    "X_test, y_test = create_dataset(test_price, step=step)\n",
    "print(X_train.shape, y_train.shape)\n",
    "print(X_test.shape, y_test.shape)\n"
   ]
  },
  {
   "cell_type": "code",
   "execution_count": 125,
   "metadata": {
    "id": "awJbCI_TF7gW"
   },
   "outputs": [],
   "source": [
    "import torch.nn as nn\n",
    "class ETHmodel(nn.Module):\n",
    "    def __init__(self):\n",
    "        super().__init__()\n",
    "        self.lstm = nn.LSTM(input_size=1, hidden_size=50, num_layers=1, batch_first=True)\n",
    "        self.linear = nn.Linear(50, 1)\n",
    "    def forward(self, x):\n",
    "        x, _ = self.lstm(x)\n",
    "        x = self.linear(x)\n",
    "        return x"
   ]
  },
  {
   "cell_type": "code",
   "execution_count": 188,
   "metadata": {
    "colab": {
     "base_uri": "https://localhost:8080/"
    },
    "id": "DJSDFE7aGl5l",
    "outputId": "0ef17f8a-5803-4a3e-e12d-de48ddf1cc99"
   },
   "outputs": [
    {
     "name": "stdout",
     "output_type": "stream",
     "text": [
      "Epoch 0: train RMSE 1163.8427, test RMSE 2187.5713\n",
      "Epoch 100: train RMSE 783.0385, test RMSE 1366.0325\n"
     ]
    }
   ],
   "source": [
    "import torch.optim as optim\n",
    "import torch.utils.data as data\n",
    " \n",
    "model = ETHmodel()\n",
    "optimizer = optim.Adam(model.parameters())\n",
    "loss_fn = nn.MSELoss()\n",
    "loader = data.DataLoader(data.TensorDataset(X_train, y_train), shuffle=True, batch_size=8)\n",
    " \n",
    "n_epochs = 200\n",
    "for epoch in range(n_epochs):\n",
    "    model.train()\n",
    "    for X_batch, y_batch in loader:\n",
    "        y_pred = model(X_batch)\n",
    "        loss = loss_fn(y_pred, y_batch)\n",
    "        optimizer.zero_grad()\n",
    "        loss.backward()\n",
    "        optimizer.step()\n",
    "    # Validation\n",
    "    if epoch % 100 != 0:\n",
    "        continue\n",
    "    model.eval()\n",
    "    with torch.no_grad():\n",
    "        y_pred = model(X_train)\n",
    "        train_rmse = np.sqrt(loss_fn(y_pred, y_train))\n",
    "        y_pred = model(X_test)\n",
    "        test_rmse = np.sqrt(loss_fn(y_pred, y_test))\n",
    "    print(\"Epoch %d: train RMSE %.4f, test RMSE %.4f\" % (epoch, train_rmse, test_rmse))"
   ]
  },
  {
   "cell_type": "code",
   "execution_count": 149,
   "metadata": {},
   "outputs": [
    {
     "data": {
      "image/png": "[encoded data removed]",
      "text/plain": [
       "<Figure size 720x504 with 1 Axes>"
      ]
     },
     "metadata": {
      "needs_background": "light"
     },
     "output_type": "display_data"
    },
    {
     "data": {
      "image/png": "[encoded data removed]",
      "text/plain": [
       "<Figure size 720x504 with 1 Axes>"
      ]
     },
     "metadata": {
      "needs_background": "light"
     },
     "output_type": "display_data"
    }
   ],
   "source": [
    "import matplotlib.pyplot as plt\n",
    "\n",
    "# Set the model to evaluation mode\n",
    "model.eval()\n",
    "\n",
    "# Perform prediction on training data\n",
    "with torch.no_grad():\n",
    "    train_predictions = model(X_train)\n",
    "\n",
    "# Perform prediction on test data\n",
    "with torch.no_grad():\n",
    "    test_predictions = model(X_test)\n",
    "\n",
    "# Create arrays for the predicted values\n",
    "train_predictions = train_predictions.squeeze().numpy()\n",
    "test_predictions = test_predictions.squeeze().numpy()\n",
    "\n",
    "# Create arrays for the actual values\n",
    "train_actual = y_train.squeeze().numpy()\n",
    "test_actual = y_test.squeeze().numpy()\n",
    "\n",
    "# Create arrays for the dates\n",
    "train_dates = train_time[step:len(train_price)]\n",
    "test_dates = test_time[step:len(test_price)]\n",
    "\n",
    "# Plot the training data\n",
    "plt.figure(figsize=(10, 7))\n",
    "plt.plot(train_dates, train_actual, label=\"Actual\", color=\"blue\")\n",
    "plt.plot(train_dates, train_predictions, label=\"Predicted\", color=\"red\")\n",
    "plt.title(\"ETH Price Prediction on Training Data\", fontsize=16)\n",
    "plt.xlabel(\"Date\")\n",
    "plt.ylabel(\"ETH Price\")\n",
    "plt.legend()\n",
    "plt.show()\n",
    "\n",
    "# Plot the test data\n",
    "plt.figure(figsize=(10, 7))\n",
    "plt.plot(test_dates, test_actual, label=\"Actual\", color=\"blue\")\n",
    "plt.plot(test_dates, test_predictions, label=\"Predicted\", color=\"red\")\n",
    "plt.title(\"ETH Price Prediction on Test Data\", fontsize=16)\n",
    "plt.xlabel(\"Date\")\n",
    "plt.ylabel(\"ETH Price\")\n",
    "plt.legend()\n",
    "plt.show()\n"
   ]
  },
  {
   "cell_type": "code",
   "execution_count": 187,
   "metadata": {},
   "outputs": [
    {
     "data": {
      "image/png": "[encoded data removed]",
      "text/plain": [
       "<Figure size 720x504 with 1 Axes>"
      ]
     },
     "metadata": {
      "needs_background": "light"
     },
     "output_type": "display_data"
    },
    {
     "name": "stdout",
     "output_type": "stream",
     "text": [
      "Prediction price at start date ( 2023-05-07 )\t: 1969.82 ETH\n",
      "The actual price on May 07,2023 is\t\t: 1880.95 ETH\n"
     ]
    }
   ],
   "source": [
    "# Generate time steps for prediction\n",
    "pred_time = pd.date_range(start='2023-05-07', end='2023-05-07', freq='D')\n",
    "\n",
    "# Convert time steps to numpy array\n",
    "pred_time = pred_time.to_numpy()\n",
    "\n",
    "# Prepare input data for prediction\n",
    "pred_data = np.zeros(len(pred_time))\n",
    "pred_data[0] = test_price[-1]\n",
    "\n",
    "# Predict future prices using RNN model\n",
    "model.eval()\n",
    "with torch.no_grad():\n",
    "    for i in range(1, len(pred_time)):\n",
    "        pred_feature = torch.tensor(pred_data[i-1:i], dtype=torch.float32).unsqueeze(dim=0)\n",
    "        pred_price = model(pred_feature).squeeze().item()\n",
    "        pred_data[i] = pred_price\n",
    "\n",
    "# Plot actual and predicted prices\n",
    "plt.figure(figsize=(10,7))\n",
    "plt.plot(test_time, test_price, label=\"Actual data\")\n",
    "plt.plot(pred_time, pred_data, label=\"Predicted data\")\n",
    "plt.title('Price of Ethereum from 7 May 2023 to 7 May 2024',fontsize=16)\n",
    "plt.xlabel('Date')\n",
    "plt.ylabel('ETH Price')\n",
    "plt.legend()\n",
    "plt.show()\n",
    "\n",
    "# Define start date\n",
    "start_date = '2023-05-07'\n",
    "# Convert start date to pandas timestamp\n",
    "start_date = pd.Timestamp(start_date)\n",
    "\n",
    "# Find index of start date in pred_time\n",
    "start_index = np.where(pred_time == start_date)[0][0]\n",
    "\n",
    "# Get price at start date\n",
    "start_price = pred_data[start_index]\n",
    "\n",
    "# Print start price\n",
    "print(\"Prediction price at start date (\", start_date.date(), \")\\t:\", round(start_price, 2), \"ETH\")\n",
    "print(\"The actual price on May 07,2023 is\\t\\t: 1880.95 ETH\")\n"
   ]
  },
  {
   "cell_type": "markdown",
   "metadata": {},
   "source": []
  },
  {
   "cell_type": "code",
   "execution_count": null,
   "metadata": {},
   "outputs": [],
   "source": []
  }
 ],
 "metadata": {
  "colab": {
   "provenance": []
  },
  "kernelspec": {
   "display_name": "Python 3 (ipykernel)",
   "language": "python",
   "name": "python3"
  },
  "language_info": {
   "codemirror_mode": {
    "name": "ipython",
    "version": 3
   },
   "file_extension": ".py",
   "mimetype": "text/x-python",
   "name": "python",
   "nbconvert_exporter": "python",
   "pygments_lexer": "ipython3",
   "version": "3.9.12"
  }
 },
 "nbformat": 4,
 "nbformat_minor": 1
}
